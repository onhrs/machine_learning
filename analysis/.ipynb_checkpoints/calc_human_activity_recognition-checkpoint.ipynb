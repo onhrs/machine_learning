{
 "cells": [
  {
   "cell_type": "markdown",
   "metadata": {},
   "source": [
    "# 元論文\n",
    "https://www.elen.ucl.ac.be/Proceedings/esann/esannpdf/es2013-84.pdf\n",
    "\n",
    "# SVMで解析していたが、XGboostでやってみた"
   ]
  },
  {
   "cell_type": "code",
   "execution_count": 1,
   "metadata": {},
   "outputs": [
    {
     "name": "stderr",
     "output_type": "stream",
     "text": [
      "/Users/ono/.pyenv/versions/anaconda3-4.1.1/lib/python3.5/site-packages/sklearn/cross_validation.py:41: DeprecationWarning: This module was deprecated in version 0.18 in favor of the model_selection module into which all the refactored classes and functions are moved. Also note that the interface of the new CV iterators are different from that of this module. This module will be removed in 0.20.\n",
      "  \"This module will be removed in 0.20.\", DeprecationWarning)\n"
     ]
    }
   ],
   "source": [
    "import numpy as np\n",
    "import pandas as pd\n",
    "import matplotlib.pyplot as plt\n",
    "from sklearn.model_selection import train_test_split\n",
    "\n",
    "import xgboost as xgb\n",
    "from sklearn import metrics\n",
    "from sklearn.cross_validation import cross_val_score\n",
    "from sklearn import svm\n",
    "\n",
    "\n",
    "from sklearn.metrics import confusion_matrix"
   ]
  },
  {
   "cell_type": "code",
   "execution_count": 2,
   "metadata": {},
   "outputs": [],
   "source": [
    "\n",
    "#kaggle(https://www.kaggle.com/uciml/human-activity-recognition-with-smartphones)から取得\n",
    "\n",
    "df_test = pd.read_csv(\"/Users/ono/python/kaggle/data/human-activity-recognition-with-smartphones/test.csv\")\n",
    "df_train = pd.read_csv(\"/Users/ono/python/kaggle/data/human-activity-recognition-with-smartphones/train.csv\")"
   ]
  },
  {
   "cell_type": "code",
   "execution_count": 3,
   "metadata": {},
   "outputs": [
    {
     "data": {
      "text/html": [
       "<div>\n",
       "<style scoped>\n",
       "    .dataframe tbody tr th:only-of-type {\n",
       "        vertical-align: middle;\n",
       "    }\n",
       "\n",
       "    .dataframe tbody tr th {\n",
       "        vertical-align: top;\n",
       "    }\n",
       "\n",
       "    .dataframe thead th {\n",
       "        text-align: right;\n",
       "    }\n",
       "</style>\n",
       "<table border=\"1\" class=\"dataframe\">\n",
       "  <thead>\n",
       "    <tr style=\"text-align: right;\">\n",
       "      <th></th>\n",
       "      <th>tBodyAcc-mean()-X</th>\n",
       "      <th>tBodyAcc-mean()-Y</th>\n",
       "      <th>tBodyAcc-mean()-Z</th>\n",
       "      <th>tBodyAcc-std()-X</th>\n",
       "      <th>tBodyAcc-std()-Y</th>\n",
       "      <th>tBodyAcc-std()-Z</th>\n",
       "      <th>tBodyAcc-mad()-X</th>\n",
       "      <th>tBodyAcc-mad()-Y</th>\n",
       "      <th>tBodyAcc-mad()-Z</th>\n",
       "      <th>tBodyAcc-max()-X</th>\n",
       "      <th>...</th>\n",
       "      <th>fBodyBodyGyroJerkMag-kurtosis()</th>\n",
       "      <th>angle(tBodyAccMean,gravity)</th>\n",
       "      <th>angle(tBodyAccJerkMean),gravityMean)</th>\n",
       "      <th>angle(tBodyGyroMean,gravityMean)</th>\n",
       "      <th>angle(tBodyGyroJerkMean,gravityMean)</th>\n",
       "      <th>angle(X,gravityMean)</th>\n",
       "      <th>angle(Y,gravityMean)</th>\n",
       "      <th>angle(Z,gravityMean)</th>\n",
       "      <th>subject</th>\n",
       "      <th>Activity</th>\n",
       "    </tr>\n",
       "  </thead>\n",
       "  <tbody>\n",
       "    <tr>\n",
       "      <th>0</th>\n",
       "      <td>0.257178</td>\n",
       "      <td>-0.023285</td>\n",
       "      <td>-0.014654</td>\n",
       "      <td>-0.938404</td>\n",
       "      <td>-0.920091</td>\n",
       "      <td>-0.667683</td>\n",
       "      <td>-0.952501</td>\n",
       "      <td>-0.925249</td>\n",
       "      <td>-0.674302</td>\n",
       "      <td>-0.894088</td>\n",
       "      <td>...</td>\n",
       "      <td>-0.705974</td>\n",
       "      <td>0.006462</td>\n",
       "      <td>0.162920</td>\n",
       "      <td>-0.825886</td>\n",
       "      <td>0.271151</td>\n",
       "      <td>-0.720009</td>\n",
       "      <td>0.276801</td>\n",
       "      <td>-0.057978</td>\n",
       "      <td>2</td>\n",
       "      <td>STANDING</td>\n",
       "    </tr>\n",
       "    <tr>\n",
       "      <th>1</th>\n",
       "      <td>0.286027</td>\n",
       "      <td>-0.013163</td>\n",
       "      <td>-0.119083</td>\n",
       "      <td>-0.975415</td>\n",
       "      <td>-0.967458</td>\n",
       "      <td>-0.944958</td>\n",
       "      <td>-0.986799</td>\n",
       "      <td>-0.968401</td>\n",
       "      <td>-0.945823</td>\n",
       "      <td>-0.894088</td>\n",
       "      <td>...</td>\n",
       "      <td>-0.594944</td>\n",
       "      <td>-0.083495</td>\n",
       "      <td>0.017500</td>\n",
       "      <td>-0.434375</td>\n",
       "      <td>0.920593</td>\n",
       "      <td>-0.698091</td>\n",
       "      <td>0.281343</td>\n",
       "      <td>-0.083898</td>\n",
       "      <td>2</td>\n",
       "      <td>STANDING</td>\n",
       "    </tr>\n",
       "    <tr>\n",
       "      <th>2</th>\n",
       "      <td>0.275485</td>\n",
       "      <td>-0.026050</td>\n",
       "      <td>-0.118152</td>\n",
       "      <td>-0.993819</td>\n",
       "      <td>-0.969926</td>\n",
       "      <td>-0.962748</td>\n",
       "      <td>-0.994403</td>\n",
       "      <td>-0.970735</td>\n",
       "      <td>-0.963483</td>\n",
       "      <td>-0.939260</td>\n",
       "      <td>...</td>\n",
       "      <td>-0.640736</td>\n",
       "      <td>-0.034956</td>\n",
       "      <td>0.202302</td>\n",
       "      <td>0.064103</td>\n",
       "      <td>0.145068</td>\n",
       "      <td>-0.702771</td>\n",
       "      <td>0.280083</td>\n",
       "      <td>-0.079346</td>\n",
       "      <td>2</td>\n",
       "      <td>STANDING</td>\n",
       "    </tr>\n",
       "    <tr>\n",
       "      <th>3</th>\n",
       "      <td>0.270298</td>\n",
       "      <td>-0.032614</td>\n",
       "      <td>-0.117520</td>\n",
       "      <td>-0.994743</td>\n",
       "      <td>-0.973268</td>\n",
       "      <td>-0.967091</td>\n",
       "      <td>-0.995274</td>\n",
       "      <td>-0.974471</td>\n",
       "      <td>-0.968897</td>\n",
       "      <td>-0.938610</td>\n",
       "      <td>...</td>\n",
       "      <td>-0.736124</td>\n",
       "      <td>-0.017067</td>\n",
       "      <td>0.154438</td>\n",
       "      <td>0.340134</td>\n",
       "      <td>0.296407</td>\n",
       "      <td>-0.698954</td>\n",
       "      <td>0.284114</td>\n",
       "      <td>-0.077108</td>\n",
       "      <td>2</td>\n",
       "      <td>STANDING</td>\n",
       "    </tr>\n",
       "    <tr>\n",
       "      <th>4</th>\n",
       "      <td>0.274833</td>\n",
       "      <td>-0.027848</td>\n",
       "      <td>-0.129527</td>\n",
       "      <td>-0.993852</td>\n",
       "      <td>-0.967445</td>\n",
       "      <td>-0.978295</td>\n",
       "      <td>-0.994111</td>\n",
       "      <td>-0.965953</td>\n",
       "      <td>-0.977346</td>\n",
       "      <td>-0.938610</td>\n",
       "      <td>...</td>\n",
       "      <td>-0.846595</td>\n",
       "      <td>-0.002223</td>\n",
       "      <td>-0.040046</td>\n",
       "      <td>0.736715</td>\n",
       "      <td>-0.118545</td>\n",
       "      <td>-0.692245</td>\n",
       "      <td>0.290722</td>\n",
       "      <td>-0.073857</td>\n",
       "      <td>2</td>\n",
       "      <td>STANDING</td>\n",
       "    </tr>\n",
       "  </tbody>\n",
       "</table>\n",
       "<p>5 rows × 563 columns</p>\n",
       "</div>"
      ],
      "text/plain": [
       "   tBodyAcc-mean()-X  tBodyAcc-mean()-Y  tBodyAcc-mean()-Z  tBodyAcc-std()-X  \\\n",
       "0           0.257178          -0.023285          -0.014654         -0.938404   \n",
       "1           0.286027          -0.013163          -0.119083         -0.975415   \n",
       "2           0.275485          -0.026050          -0.118152         -0.993819   \n",
       "3           0.270298          -0.032614          -0.117520         -0.994743   \n",
       "4           0.274833          -0.027848          -0.129527         -0.993852   \n",
       "\n",
       "   tBodyAcc-std()-Y  tBodyAcc-std()-Z  tBodyAcc-mad()-X  tBodyAcc-mad()-Y  \\\n",
       "0         -0.920091         -0.667683         -0.952501         -0.925249   \n",
       "1         -0.967458         -0.944958         -0.986799         -0.968401   \n",
       "2         -0.969926         -0.962748         -0.994403         -0.970735   \n",
       "3         -0.973268         -0.967091         -0.995274         -0.974471   \n",
       "4         -0.967445         -0.978295         -0.994111         -0.965953   \n",
       "\n",
       "   tBodyAcc-mad()-Z  tBodyAcc-max()-X    ...     \\\n",
       "0         -0.674302         -0.894088    ...      \n",
       "1         -0.945823         -0.894088    ...      \n",
       "2         -0.963483         -0.939260    ...      \n",
       "3         -0.968897         -0.938610    ...      \n",
       "4         -0.977346         -0.938610    ...      \n",
       "\n",
       "   fBodyBodyGyroJerkMag-kurtosis()  angle(tBodyAccMean,gravity)  \\\n",
       "0                        -0.705974                     0.006462   \n",
       "1                        -0.594944                    -0.083495   \n",
       "2                        -0.640736                    -0.034956   \n",
       "3                        -0.736124                    -0.017067   \n",
       "4                        -0.846595                    -0.002223   \n",
       "\n",
       "   angle(tBodyAccJerkMean),gravityMean)  angle(tBodyGyroMean,gravityMean)  \\\n",
       "0                              0.162920                         -0.825886   \n",
       "1                              0.017500                         -0.434375   \n",
       "2                              0.202302                          0.064103   \n",
       "3                              0.154438                          0.340134   \n",
       "4                             -0.040046                          0.736715   \n",
       "\n",
       "   angle(tBodyGyroJerkMean,gravityMean)  angle(X,gravityMean)  \\\n",
       "0                              0.271151             -0.720009   \n",
       "1                              0.920593             -0.698091   \n",
       "2                              0.145068             -0.702771   \n",
       "3                              0.296407             -0.698954   \n",
       "4                             -0.118545             -0.692245   \n",
       "\n",
       "   angle(Y,gravityMean)  angle(Z,gravityMean)  subject  Activity  \n",
       "0              0.276801             -0.057978        2  STANDING  \n",
       "1              0.281343             -0.083898        2  STANDING  \n",
       "2              0.280083             -0.079346        2  STANDING  \n",
       "3              0.284114             -0.077108        2  STANDING  \n",
       "4              0.290722             -0.073857        2  STANDING  \n",
       "\n",
       "[5 rows x 563 columns]"
      ]
     },
     "execution_count": 3,
     "metadata": {},
     "output_type": "execute_result"
    }
   ],
   "source": [
    "#562の特徴量のデータと、カラム名Activity（立つ、座るなど）は目的変数\n",
    "\n",
    "df_test.head()"
   ]
  },
  {
   "cell_type": "code",
   "execution_count": 4,
   "metadata": {},
   "outputs": [],
   "source": [
    "df_train_c=df_train.copy()\n",
    "df_test_c=df_test.copy()\n",
    "del df_train_c[\"subject\"]\n",
    "del df_test_c[\"subject\"]\n"
   ]
  },
  {
   "cell_type": "code",
   "execution_count": 5,
   "metadata": {},
   "outputs": [
    {
     "data": {
      "text/plain": [
       "['WALKING_DOWNSTAIRS',\n",
       " 'STANDING',\n",
       " 'LAYING',\n",
       " 'SITTING',\n",
       " 'WALKING_UPSTAIRS',\n",
       " 'WALKING']"
      ]
     },
     "execution_count": 5,
     "metadata": {},
     "output_type": "execute_result"
    }
   ],
   "source": [
    "list(set(df_train_c[\"Activity\"]))"
   ]
  },
  {
   "cell_type": "code",
   "execution_count": 6,
   "metadata": {},
   "outputs": [],
   "source": [
    "#上記のActivityを分類するにあたり、各Activityに番号を振る\n",
    "\n",
    "def get_act(_x):\n",
    "    if _x=='WALKING':\n",
    "        return 0\n",
    "    if _x=='WALKING_DOWNSTAIRS':\n",
    "        return 1\n",
    "    if _x=='WALKING_UPSTAIRS':\n",
    "        return 2\n",
    "    if _x=='SITTING':\n",
    "        return 3\n",
    "    if _x=='STANDING':\n",
    "        return 4\n",
    "    if _x=='LAYING':\n",
    "        return 5\n",
    "    "
   ]
  },
  {
   "cell_type": "code",
   "execution_count": 7,
   "metadata": {},
   "outputs": [],
   "source": [
    "#actとう言うカラム名にする\n",
    "df_train_c[\"act\"]=df_train_c[\"Activity\"].apply(get_act)\n",
    "del df_train_c[\"Activity\"]\n",
    "\n",
    "Y_train=df_train_c[\"act\"]\n",
    "del df_train_c[\"act\"]\n",
    "X_train=df_train_c\n",
    "\n",
    "Y_train=np.array(Y_train)\n",
    "X_train=X_train.as_matrix()"
   ]
  },
  {
   "cell_type": "code",
   "execution_count": 8,
   "metadata": {},
   "outputs": [
    {
     "data": {
      "text/plain": [
       "XGBClassifier(base_score=0.5, colsample_bylevel=1, colsample_bytree=1,\n",
       "       gamma=0, learning_rate=0.1, max_delta_step=0, max_depth=3,\n",
       "       min_child_weight=1, missing=None, n_estimators=100, nthread=-1,\n",
       "       objective='multi:softprob', reg_alpha=0, reg_lambda=1,\n",
       "       scale_pos_weight=1, seed=0, silent=True, subsample=1)"
      ]
     },
     "execution_count": 8,
     "metadata": {},
     "output_type": "execute_result"
    }
   ],
   "source": [
    "\n",
    "#学習\n",
    "\n",
    "model_xgb = xgb.XGBClassifier()\n",
    "\n",
    "model_xgb.fit(X_train,Y_train)\n"
   ]
  },
  {
   "cell_type": "code",
   "execution_count": 9,
   "metadata": {},
   "outputs": [],
   "source": [
    "df_test_d=df_test_c.copy()\n",
    "\n",
    "df_test_d[\"act\"]=df_test_d[\"Activity\"].apply(get_act)\n",
    "del df_test_d[\"Activity\"]\n",
    "Y_test=df_test_d[\"act\"]\n",
    "del df_test_d[\"act\"]\n",
    "X_test=df_test_d\n",
    "\n",
    "\n",
    "Y_test=np.array(Y_test)\n",
    "\n",
    "X_test=X_test.as_matrix()"
   ]
  },
  {
   "cell_type": "code",
   "execution_count": 10,
   "metadata": {},
   "outputs": [
    {
     "name": "stdout",
     "output_type": "stream",
     "text": [
      "正解率 : 0.9395995928062436\n"
     ]
    }
   ],
   "source": [
    "\n",
    "predicted = model_xgb.predict(X_test)\n",
    "expected = Y_test\n",
    "\n",
    "\n",
    "print(\"正解率 : {}\".format(metrics.accuracy_score(expected,predicted)))"
   ]
  },
  {
   "cell_type": "code",
   "execution_count": 11,
   "metadata": {},
   "outputs": [
    {
     "name": "stdout",
     "output_type": "stream",
     "text": [
      "score 0.927 +/- 0.023\n"
     ]
    }
   ],
   "source": [
    "#クロスバリデーションによる結果\n",
    "score=cross_val_score(estimator=model_xgb,\n",
    "                      X=X_train,\n",
    "                      y=Y_train,\n",
    "                      cv=5,\n",
    "                      n_jobs=-1)\n",
    "\n",
    "print(\"score %.3f +/- %.3f\" %(np.mean(score),np.std(score)))"
   ]
  },
  {
   "cell_type": "code",
   "execution_count": 12,
   "metadata": {},
   "outputs": [
    {
     "name": "stdout",
     "output_type": "stream",
     "text": [
      "[[488   5   3   0   0   0]\n",
      " [  8 384  28   0   0   0]\n",
      " [ 25   7 439   0   0   0]\n",
      " [  0   0   2 421  68   0]\n",
      " [  0   0   0  32 500   0]\n",
      " [  0   0   0   0   0 537]]\n"
     ]
    },
    {
     "name": "stderr",
     "output_type": "stream",
     "text": [
      "/Users/ono/.pyenv/versions/anaconda3-4.1.1/lib/python3.5/site-packages/matplotlib/font_manager.py:1316: UserWarning: findfont: Font family ['Hiragino Kaku Gothic Pro'] not found. Falling back to DejaVu Sans\n",
      "  (prop.get_family(), self.defaultFamily[fontext]))\n"
     ]
    },
    {
     "data": {
      "image/png": "[encoded data removed]",
      "text/plain": [
       "<matplotlib.figure.Figure at 0x116a9a710>"
      ]
     },
     "metadata": {},
     "output_type": "display_data"
    }
   ],
   "source": [
    "\n",
    "\n",
    "confmat = confusion_matrix(y_true=expected, y_pred=predicted)\n",
    "print(confmat)\n",
    "\n",
    "fig, ax = plt.subplots(figsize=(5, 5))\n",
    "ax.matshow(confmat, cmap=plt.cm.Blues, alpha=0.3)\n",
    "for i in range(confmat.shape[0]):\n",
    "    for j in range(confmat.shape[1]):\n",
    "        ax.text(x=j, y=i, s=confmat[i, j], va='center', ha='center')\n",
    "\n",
    "plt.xlabel('predicted label')\n",
    "plt.ylabel('true label')\n",
    "\n",
    "plt.tight_layout()\n",
    "# plt.savefig('./figures/confusion_matrix.png', dpi=300)\n",
    "plt.show()"
   ]
  },
  {
   "cell_type": "code",
   "execution_count": 13,
   "metadata": {},
   "outputs": [
    {
     "name": "stderr",
     "output_type": "stream",
     "text": [
      "/Users/ono/.pyenv/versions/anaconda3-4.1.1/lib/python3.5/site-packages/sklearn/grid_search.py:42: DeprecationWarning: This module was deprecated in version 0.18 in favor of the model_selection module into which all the refactored classes and functions are moved. This module will be removed in 0.20.\n",
      "  DeprecationWarning)\n"
     ]
    },
    {
     "data": {
      "text/plain": [
       "([mean: 0.92247, std: 0.01557, params: {'min_child_weight': 9, 'subsample': 0.8, 'reg_alpha': 0.3, 'colsample_bytree': 0.8, 'gamma': 0.4, 'max_depth': 16},\n",
       "  mean: 0.91989, std: 0.01631, params: {'min_child_weight': 10, 'subsample': 0.9, 'reg_alpha': 0.1, 'colsample_bytree': 0.6, 'gamma': 0.2, 'max_depth': 14},\n",
       "  mean: 0.92111, std: 0.01383, params: {'min_child_weight': 9, 'subsample': 0.8, 'reg_alpha': 0.1, 'colsample_bytree': 0.6, 'gamma': 0.1, 'max_depth': 11},\n",
       "  mean: 0.92220, std: 0.01438, params: {'min_child_weight': 9, 'subsample': 0.7, 'reg_alpha': 0.2, 'colsample_bytree': 0.9, 'gamma': 0.2, 'max_depth': 10},\n",
       "  mean: 0.92764, std: 0.01576, params: {'min_child_weight': 12, 'subsample': 0.6, 'reg_alpha': 0.09, 'colsample_bytree': 0.7, 'gamma': 0.2, 'max_depth': 6},\n",
       "  mean: 0.92356, std: 0.01424, params: {'min_child_weight': 9, 'subsample': 0.7, 'reg_alpha': 0.3, 'colsample_bytree': 0.9, 'gamma': 0.2, 'max_depth': 7},\n",
       "  mean: 0.92492, std: 0.01373, params: {'min_child_weight': 12, 'subsample': 0.7, 'reg_alpha': 0.09, 'colsample_bytree': 0.9, 'gamma': 0.4, 'max_depth': 10},\n",
       "  mean: 0.92709, std: 0.01602, params: {'min_child_weight': 13, 'subsample': 0.6, 'reg_alpha': 0.1, 'colsample_bytree': 0.7, 'gamma': 0.4, 'max_depth': 9},\n",
       "  mean: 0.92750, std: 0.01396, params: {'min_child_weight': 15, 'subsample': 0.6, 'reg_alpha': 0.1, 'colsample_bytree': 0.8, 'gamma': 0.4, 'max_depth': 14},\n",
       "  mean: 0.92614, std: 0.01373, params: {'min_child_weight': 12, 'subsample': 0.7, 'reg_alpha': 0.1, 'colsample_bytree': 0.7, 'gamma': 0.0, 'max_depth': 12}],\n",
       " {'colsample_bytree': 0.7,\n",
       "  'gamma': 0.2,\n",
       "  'max_depth': 6,\n",
       "  'min_child_weight': 12,\n",
       "  'reg_alpha': 0.09,\n",
       "  'subsample': 0.6},\n",
       " 0.9276387377584331)"
      ]
     },
     "execution_count": 13,
     "metadata": {},
     "output_type": "execute_result"
    }
   ],
   "source": [
    "#ランダムサーチによるパラメーター推定\n",
    "\n",
    "from sklearn.grid_search import GridSearchCV,RandomizedSearchCV\n",
    "\n",
    "param_test1 = {\n",
    "    'max_depth':[3,4,5,6,7,8,9,10,11,12,13,14,15,16,17],\n",
    "    'min_child_weight':[7,8,9,10,11,12,13,14,15,16],\n",
    "    'gamma':[i/10.0 for i in range(0,5)],\n",
    "    'subsample':[i/10.0 for i in range(6,10)],\n",
    "    'colsample_bytree':[i/10.0 for i in range(6,10)],\n",
    "    'reg_alpha':[0.09, 0.1,0.2,0.3],\n",
    "\n",
    "}\n",
    "gsearch1 = RandomizedSearchCV(model_xgb, param_test1, n_jobs=-1)\n",
    "gsearch1.fit(X_train, Y_train)\n",
    "gsearch1.grid_scores_, gsearch1.best_params_, gsearch1.best_score_\n",
    "\n",
    "\n"
   ]
  },
  {
   "cell_type": "code",
   "execution_count": null,
   "metadata": {},
   "outputs": [],
   "source": [
    "\n"
   ]
  },
  {
   "cell_type": "code",
   "execution_count": 14,
   "metadata": {},
   "outputs": [
    {
     "data": {
      "text/plain": [
       "XGBClassifier(base_score=0.5, colsample_bylevel=1, colsample_bytree=0.7,\n",
       "       gamma=0.2, learning_rate=0.1, max_delta_step=0, max_depth=6,\n",
       "       min_child_weight=12, missing=None, n_estimators=500, nthread=-1,\n",
       "       objective='multi:softprob', reg_alpha=0.09, reg_lambda=1,\n",
       "       scale_pos_weight=1, seed=0, silent=True, subsample=0.6)"
      ]
     },
     "execution_count": 14,
     "metadata": {},
     "output_type": "execute_result"
    }
   ],
   "source": [
    "#チューニングしたパラメーターで再度学習\n",
    "\"\"\"\n",
    "early_stopping_roundsとは : \n",
    "\n",
    "It is generally a good idea to select the early_stopping_rounds as a reasonable function \n",
    "of the total number of training epochs (10% in this case) or attempt to correspond to \n",
    "the period of inflection points as might be observed on plots of learning curves.\n",
    "\"\"\"\n",
    "\n",
    "#eval_metricについて\n",
    "#2値分類の時 : logloss\n",
    "#他クラス分類の時 : \n",
    "\n",
    "model_xgb_tune=xgb.XGBClassifier(n_estimators=500,**gsearch1.best_params_)\n",
    "model_xgb_tune.fit(X_train, Y_train,\n",
    "                   early_stopping_rounds=10,\n",
    "                   eval_metric=\"mlogloss\",\n",
    "                   eval_set=[(X_test, Y_test)],\n",
    "                   verbose=False)\n"
   ]
  },
  {
   "cell_type": "code",
   "execution_count": 46,
   "metadata": {},
   "outputs": [
    {
     "name": "stdout",
     "output_type": "stream",
     "text": [
      "正解率 : 0.9507974211062097\n",
      "score 0.933 +/- 0.017\n",
      "[[492   3   1   0   0   0]\n",
      " [  6 386  28   0   0   0]\n",
      " [ 31   4 436   0   0   0]\n",
      " [  0   0   2 441  48   0]\n",
      " [  0   0   0  22 510   0]\n",
      " [  0   0   0   0   0 537]]\n"
     ]
    },
    {
     "name": "stderr",
     "output_type": "stream",
     "text": [
      "/Users/ono/.pyenv/versions/anaconda3-4.1.1/lib/python3.5/site-packages/matplotlib/font_manager.py:1316: UserWarning: findfont: Font family ['Hiragino Kaku Gothic Pro'] not found. Falling back to DejaVu Sans\n",
      "  (prop.get_family(), self.defaultFamily[fontext]))\n"
     ]
    },
    {
     "data": {
      "image/png": "[encoded data removed]",
      "text/plain": [
       "<matplotlib.figure.Figure at 0x10b6b18d0>"
      ]
     },
     "metadata": {},
     "output_type": "display_data"
    }
   ],
   "source": [
    "\n",
    "predicted = model_xgb_tune.predict(X_test)\n",
    "expected = Y_test\n",
    "print(\"正解率 : {}\".format(metrics.accuracy_score(expected,predicted)))\n",
    "#クロスバリデーションによる結果\n",
    "\n",
    "score=cross_val_score(estimator=model_xgb_tune,\n",
    "                      X=X_train,\n",
    "                      y=Y_train,\n",
    "                      cv=5,\n",
    "                      n_jobs=-1)\n",
    "\n",
    "print(\"score %.3f +/- %.3f\" %(np.mean(score),np.std(score)))\n",
    "\n",
    "\n",
    "confmat = confusion_matrix(y_true=expected, y_pred=predicted)\n",
    "print(confmat)\n",
    "\n",
    "fig, ax = plt.subplots(figsize=(5, 5))\n",
    "ax.matshow(confmat, cmap=plt.cm.Blues, alpha=0.3)\n",
    "for i in range(confmat.shape[0]):\n",
    "    for j in range(confmat.shape[1]):\n",
    "        ax.text(x=j, y=i, s=confmat[i, j], va='center', ha='center')\n",
    "\n",
    "plt.xlabel('predicted label')\n",
    "plt.ylabel('true label')\n",
    "\n",
    "plt.tight_layout()\n",
    "# plt.savefig('./figures/confusion_matrix.png', dpi=300)\n",
    "plt.show()"
   ]
  },
  {
   "cell_type": "code",
   "execution_count": 49,
   "metadata": {},
   "outputs": [
    {
     "name": "stdout",
     "output_type": "stream",
     "text": [
      "             precision    recall  f1-score   support\n",
      "\n",
      "          0       0.93      0.99      0.96       496\n",
      "          1       0.98      0.92      0.95       420\n",
      "          2       0.93      0.93      0.93       471\n",
      "          3       0.95      0.90      0.92       491\n",
      "          4       0.91      0.96      0.94       532\n",
      "          5       1.00      1.00      1.00       537\n",
      "\n",
      "avg / total       0.95      0.95      0.95      2947\n",
      "\n"
     ]
    }
   ],
   "source": [
    "from sklearn.metrics import classification_report\n",
    "print(classification_report(y_true=expected, y_pred=predicted))"
   ]
  },
  {
   "cell_type": "code",
   "execution_count": 15,
   "metadata": {
    "scrolled": true
   },
   "outputs": [
    {
     "name": "stdout",
     "output_type": "stream",
     "text": [
      " 1) fBodyAcc-bandsEnergy()-9,16    0.035369\n",
      " 2) tGravityAcc-min()-Z            0.034160\n",
      " 3) tGravityAcc-min()-Y            0.033253\n",
      " 4) tGravityAcc-energy()-Z         0.030834\n",
      " 5) tBodyAcc-correlation()-X,Z     0.025393\n",
      " 6) tBodyAcc-max()-Y               0.021765\n",
      " 7) tBodyGyro-min()-Y              0.017231\n",
      " 8) fBodyGyro-bandsEnergy()-17,24  0.017231\n",
      " 9) tBodyGyro-max()-Y              0.016929\n",
      "10) tGravityAcc-max()-Z            0.016929\n"
     ]
    }
   ],
   "source": [
    "\n",
    "feat_labels = df_train.columns[1:]\n",
    "\n",
    "\n",
    "importances = model_xgb.feature_importances_\n",
    "\n",
    "indices = np.argsort(importances)[::-1]\n",
    "\n",
    "#上位10件\n",
    "for f in range(10):\n",
    "    print(\"%2d) %-*s %f\" % (f + 1, 30, \n",
    "                            feat_labels[indices[f]], \n",
    "                            importances[indices[f]]))\n",
    "\n"
   ]
  },
  {
   "cell_type": "code",
   "execution_count": null,
   "metadata": {},
   "outputs": [],
   "source": []
  },
  {
   "cell_type": "code",
   "execution_count": 18,
   "metadata": {},
   "outputs": [
    {
     "data": {
      "text/plain": [
       "\"\\nplt.figure(figsize=(100,100))\\n\\nplt.title('Feature Importances')\\nplt.bar(range(X_train.shape[1]), \\n        importances[indices],\\n        color='lightblue', \\n        align='center')\\n\\nplt.xticks(range(X_train.shape[1]), \\n           indices, rotation=90)\\nplt.xlim([-1, X_train.shape[1]])\\nplt.tight_layout()\\n#plt.savefig('/Users/ono/Desktop/random_forest.png', dpi=300)\\nplt.show()\\n\""
      ]
     },
     "execution_count": 18,
     "metadata": {},
     "output_type": "execute_result"
    }
   ],
   "source": [
    "\"\"\"\n",
    "plt.figure(figsize=(100,100))\n",
    "\n",
    "plt.title('Feature Importances')\n",
    "plt.bar(range(X_train.shape[1]), \n",
    "        importances[indices],\n",
    "        color='lightblue', \n",
    "        align='center')\n",
    "\n",
    "plt.xticks(range(X_train.shape[1]), \n",
    "           indices, rotation=90)\n",
    "plt.xlim([-1, X_train.shape[1]])\n",
    "plt.tight_layout()\n",
    "#plt.savefig('xgboost.png', dpi=300)\n",
    "plt.show()\n",
    "\"\"\""
   ]
  },
  {
   "cell_type": "code",
   "execution_count": 48,
   "metadata": {},
   "outputs": [],
   "source": [
    "from matplotlib import pyplot\n",
    "from sklearn.metrics import accuracy_score\n",
    "\n",
    "def get_learning_curve(X_train,Y_train,X_test,Y_test,model_xgb_tune,multi_class=True):\n",
    "\n",
    "    eval_set = [(X_train, Y_train), (X_test, Y_test)]\n",
    "    if multi_class:\n",
    "        model_xgb_tune.fit(X_train, Y_train, eval_metric=[\"merror\", \"mlogloss\"], eval_set=eval_set, verbose=False)\n",
    "    else:\n",
    "        model_xgb_tune.fit(X_train, Y_train, eval_metric=[\"error\", \"logloss\"], eval_set=eval_set, verbose=False)\n",
    "\n",
    "\n",
    "    # make predictions for test data\n",
    "    y_pred = model_xgb_tune.predict(X_test)\n",
    "    predictions = [round(value) for value in y_pred]\n",
    "    # evaluate predictions\n",
    "    accuracy = accuracy_score(Y_test, predictions)\n",
    "    print(\"Accuracy: %.2f%%\" % (accuracy * 100.0))\n",
    "    if multi_class:\n",
    "        loss = 'mlogloss'\n",
    "        error = 'merror'\n",
    "    else:\n",
    "        loss = 'logloss'\n",
    "        error = 'error'\n",
    "    # retrieve performance metrics\n",
    "    results = model_xgb_tune.evals_result()\n",
    "    epochs = len(results['validation_0'][error])\n",
    "    x_axis = range(0, epochs)\n",
    "    # plot log loss\n",
    "    fig, ax = pyplot.subplots()\n",
    "    ax.plot(x_axis, results['validation_0'][loss], label='Train')\n",
    "    ax.plot(x_axis, results['validation_1'][loss], label='Test')\n",
    "    ax.legend()\n",
    "    pyplot.ylabel('Log Loss')\n",
    "    pyplot.title('XGBoost Log Loss')\n",
    "    pyplot.show()\n",
    "    # plot classification error\n",
    "    fig, ax = pyplot.subplots()\n",
    "    ax.plot(x_axis, results['validation_0'][error], label='Train')\n",
    "    ax.plot(x_axis, results['validation_1'][error], label='Test')\n",
    "    ax.legend()\n",
    "    pyplot.ylabel('Classification Error')\n",
    "    pyplot.title('XGBoost Classification Error')\n",
    "    pyplot.show()"
   ]
  },
  {
   "cell_type": "code",
   "execution_count": null,
   "metadata": {},
   "outputs": [],
   "source": []
  },
  {
   "cell_type": "code",
   "execution_count": 49,
   "metadata": {
    "scrolled": false
   },
   "outputs": [
    {
     "name": "stdout",
     "output_type": "stream",
     "text": [
      "Accuracy: 95.08%\n"
     ]
    },
    {
     "name": "stderr",
     "output_type": "stream",
     "text": [
      "/Users/ono/.pyenv/versions/anaconda3-4.1.1/lib/python3.5/site-packages/matplotlib/font_manager.py:1316: UserWarning: findfont: Font family ['Hiragino Kaku Gothic Pro'] not found. Falling back to DejaVu Sans\n",
      "  (prop.get_family(), self.defaultFamily[fontext]))\n"
     ]
    },
    {
     "data": {
      "image/png": "[encoded data removed]",
      "text/plain": [
       "<matplotlib.figure.Figure at 0x11960a470>"
      ]
     },
     "metadata": {},
     "output_type": "display_data"
    },
    {
     "data": {
      "image/png": "[encoded data removed]",
      "text/plain": [
       "<matplotlib.figure.Figure at 0x11141d390>"
      ]
     },
     "metadata": {},
     "output_type": "display_data"
    }
   ],
   "source": [
    "get_learning_curve(X_train,Y_train,X_test,Y_test,model_xgb_tune,multi_class=True)"
   ]
  },
  {
   "cell_type": "code",
   "execution_count": null,
   "metadata": {},
   "outputs": [],
   "source": []
  }
 ],
 "metadata": {
  "kernelspec": {
   "display_name": "Python [conda root]",
   "language": "python",
   "name": "conda-root-py"
  },
  "language_info": {
   "codemirror_mode": {
    "name": "ipython",
    "version": 3
   },
   "file_extension": ".py",
   "mimetype": "text/x-python",
   "name": "python",
   "nbconvert_exporter": "python",
   "pygments_lexer": "ipython3",
   "version": "3.5.4"
  }
 },
 "nbformat": 4,
 "nbformat_minor": 2
}
